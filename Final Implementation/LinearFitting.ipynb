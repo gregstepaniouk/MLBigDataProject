{
 "cells": [
  {
   "cell_type": "code",
   "execution_count": 1,
   "metadata": {},
   "outputs": [
    {
     "name": "stderr",
     "output_type": "stream",
     "text": [
      "WARNING: Method definition (::Type{ArrayViews.UnsafeContiguousView{T, N} where N where T})(Ptr{T}, Int64, Tuple{Vararg{Int64, N}}) in module ArrayViews at /Users/greg/.julia/v0.6/ArrayViews/src/arrviews.jl:18 overwritten at /Users/greg/.julia/v0.6/ArrayViews/src/arrviews.jl:26.\n",
      "WARNING: Method definition isnan(DataArrays.NAtype) in module DataArrays at /Users/greg/.julia/v0.6/DataArrays/src/natype.jl:66 overwritten in module LowRankModels at /Users/greg/.julia/v0.6/LowRankModels/src/fit_dataframe.jl:249.\n",
      "\u001b[1m\u001b[36mINFO: \u001b[39m\u001b[22m\u001b[36mPrecompiling module CSV.\n",
      "\u001b[39mWARNING: Method definition ==(Base.Nullable{S}, Base.Nullable{T}) in module Base at nullable.jl:238 overwritten in module NullableArrays at /Users/greg/.julia/v0.6/NullableArrays/src/operators.jl:99.\n",
      "WARNING: Method definition ==(Base.Nullable{S}, Base.Nullable{T}) in module Base at nullable.jl:238 overwritten in module NullableArrays at /Users/greg/.julia/v0.6/NullableArrays/src/operators.jl:99.\n",
      "WARNING: Method definition ==(Base.Nullable{S}, Base.Nullable{T}) in module Base at nullable.jl:238 overwritten in module NullableArrays at /Users/greg/.julia/v0.6/NullableArrays/src/operators.jl:99.\n",
      "WARNING: Method definition ==(Base.Nullable{S}, Base.Nullable{T}) in module Base at nullable.jl:238 overwritten in module NullableArrays at /Users/greg/.julia/v0.6/NullableArrays/src/operators.jl:99.\n",
      "WARNING: Method definition ==(Base.Nullable{S}, Base.Nullable{T}) in module Base at nullable.jl:238 overwritten in module NullableArrays at /Users/greg/.julia/v0.6/NullableArrays/src/operators.jl:99.\n"
     ]
    }
   ],
   "source": [
    "using DataFrames, JLD, LowRankModels, PyPlot, MLBase, CSV\n",
    "include(\"proxgrad.jl\")\n",
    "using LowRankModels"
   ]
  },
  {
   "cell_type": "code",
   "execution_count": 2,
   "metadata": {
    "collapsed": true
   },
   "outputs": [],
   "source": [
    "#lets heat up this laptop\n",
    "BLAS.set_num_threads(8)"
   ]
  },
  {
   "cell_type": "code",
   "execution_count": 68,
   "metadata": {
    "scrolled": true
   },
   "outputs": [
    {
     "data": {
      "text/html": [
       "<table class=\"data-frame\"><thead><tr><th></th><th>ORTC</th><th>ORSC</th><th>TCOR</th><th>TCSH</th><th>CNSH</th><th>MCSH</th><th>AWSH</th><th>f0t9</th><th>f10t29</th><th>f30t59</th><th>f60t299</th><th>ft30m</th><th>ARSP</th><th>AESP</th><th>PISH</th><th>PIAM</th><th>PIAT</th><th>AQSH</th><th>AQAT</th><th>OQSH</th><th>OQAM</th><th>OQAT</th><th>TICKER</th><th>MONTH</th><th>ID</th><th>PRC</th><th>SHROUT</th><th>VOL</th><th>MMCNT</th><th>RVOL</th><th>AVG_VIX</th><th>PS_LEVEL</th><th>PS_INNOV</th><th>PS_VWF</th></tr></thead><tbody><tr><th>1</th><td>12</td><td>22</td><td>149</td><td>126520</td><td>3000</td><td>52126</td><td>0</td><td>52126</td><td>0</td><td>0</td><td>0</td><td>0</td><td>0.0036</td><td>0.0227</td><td>1812</td><td>0.01</td><td>0.0</td><td>48314</td><td>0.0</td><td>2000</td><td>0.015</td><td>0.0</td><td>RPV</td><td>1</td><td>RPV1</td><td>52.627995</td><td>21839.5</td><td>305202.65</td><td>NaN</td><td>0.20701299999999997</td><td>19.1195</td><td>8.25e-5</td><td>0.032193429</td><td>-0.01201946</td></tr><tr><th>2</th><td>12</td><td>22</td><td>219</td><td>183790</td><td>710</td><td>158759</td><td>300</td><td>159059</td><td>0</td><td>0</td><td>0</td><td>0</td><td>0.0015</td><td>0.0116</td><td>22088</td><td>0.0073</td><td>0.0</td><td>134171</td><td>0.0</td><td>2800</td><td>0.0136</td><td>0.0</td><td>IDV</td><td>6</td><td>IDV6</td><td>33.692727272727275</td><td>129793.18181818182</td><td>718759.5</td><td>NaN</td><td>0.15316090909090907</td><td>14.33954545</td><td>0.000675371</td><td>0.014720609</td><td>0.014262069</td></tr><tr><th>3</th><td>12</td><td>23</td><td>32</td><td>93797</td><td>2000</td><td>54161</td><td>28475</td><td>82636</td><td>0</td><td>0</td><td>0</td><td>0</td><td>0.022</td><td>0.015</td><td>16243</td><td>0.0138</td><td>0.0</td><td>63393</td><td>0.0</td><td>3000</td><td>0.01</td><td>0.0</td><td>GENE</td><td>5</td><td>GENE5</td><td>4.295</td><td>8744.0</td><td>822572.65</td><td>NaN</td><td>0.7371988999999999</td><td>13.3385</td><td>0.016801706</td><td>0.016479423</td><td>0.04530087</td></tr><tr><th>4</th><td>12</td><td>21</td><td>1111</td><td>143530</td><td>500</td><td>124565</td><td>4927</td><td>129492</td><td>0</td><td>0</td><td>0</td><td>0</td><td>0.0239</td><td>0.0572</td><td>21744</td><td>0.0254</td><td>0.0</td><td>105198</td><td>0.0</td><td>2550</td><td>0.0135</td><td>0.0</td><td>HABT</td><td>2</td><td>HABT2</td><td>31.6021052631579</td><td>8975.0</td><td>293881.84210526315</td><td>NaN</td><td>NaN</td><td>15.90421053</td><td>-0.014578715</td><td>0.001904306</td><td>-0.01277631</td></tr><tr><th>5</th><td>11</td><td>24</td><td>7</td><td>39000</td><td>0</td><td>8400</td><td>30600</td><td>39000</td><td>0</td><td>0</td><td>0</td><td>0</td><td>-0.0011</td><td>0.0045</td><td>12050</td><td>0.01</td><td>0.0</td><td>25550</td><td>0.0</td><td>1400</td><td>0.01</td><td>0.0</td><td>SYMX</td><td>4</td><td>SYMX4</td><td>1.1812095238095235</td><td>76157.14285714286</td><td>1.3295189523809524e6</td><td>NaN</td><td>0.9118905714285714</td><td>13.4947619</td><td>-0.002403011</td><td>0.02698389</td><td>-0.012508165</td></tr><tr><th>6</th><td>12</td><td>21</td><td>331</td><td>44137</td><td>1795</td><td>39056</td><td>910</td><td>39966</td><td>0</td><td>0</td><td>0</td><td>0</td><td>0.0088</td><td>0.0215</td><td>1601</td><td>0.0159</td><td>0.0</td><td>37919</td><td>0.0</td><td>446</td><td>0.0161</td><td>0.0</td><td>AMBR</td><td>3</td><td>AMBR3</td><td>8.985000000000001</td><td>25777.909090909092</td><td>62557.5</td><td>NaN</td><td>0.5051987727272728</td><td>14.81272727</td><td>-0.041376827</td><td>-0.014525278</td><td>0.00912096</td></tr><tr><th>7</th><td>12</td><td>21</td><td>3832</td><td>500330</td><td>23812</td><td>349265</td><td>4645</td><td>353910</td><td>0</td><td>0</td><td>0</td><td>0</td><td>0.0344</td><td>0.0203</td><td>61770</td><td>0.0101</td><td>0.0</td><td>283659</td><td>0.0</td><td>8481</td><td>0.0149</td><td>0.0</td><td>TIF</td><td>2</td><td>TIF2</td><td>88.73526315789474</td><td>129354.0</td><td>1.1228615789473683e6</td><td>NaN</td><td>0.3743193157894737</td><td>15.90421053</td><td>-0.014578715</td><td>0.001904306</td><td>-0.01277631</td></tr><tr><th>8</th><td>12</td><td>22</td><td>59</td><td>40881</td><td>1594</td><td>18244</td><td>7823</td><td>26067</td><td>0</td><td>0</td><td>0</td><td>0</td><td>0.0083</td><td>0.0182</td><td>8113</td><td>0.0211</td><td>0.0</td><td>17018</td><td>0.1</td><td>936</td><td>0.01</td><td>0.0</td><td>AOS</td><td>1</td><td>AOS1</td><td>56.10699999999999</td><td>76364.85</td><td>640795.5</td><td>NaN</td><td>0.21468564999999998</td><td>19.1195</td><td>8.25e-5</td><td>0.032193429</td><td>-0.01201946</td></tr><tr><th>9</th><td>11</td><td>21</td><td>3</td><td>300</td><td>0</td><td>200</td><td>100</td><td>300</td><td>0</td><td>0</td><td>0</td><td>0</td><td>-0.21</td><td>0.14</td><td>0</td><td>0.0</td><td>0.0</td><td>300</td><td>0.0</td><td>0</td><td>0.0</td><td>0.0</td><td>WRLD</td><td>4</td><td>WRLD4</td><td>75.51642857142858</td><td>8970.0</td><td>251186.61904761905</td><td>NaN</td><td>0.5998951428571428</td><td>13.4947619</td><td>-0.002403011</td><td>0.02698389</td><td>-0.012508165</td></tr><tr><th>10</th><td>11</td><td>21</td><td>84</td><td>9942</td><td>0</td><td>6270</td><td>3672</td><td>9942</td><td>0</td><td>0</td><td>0</td><td>0</td><td>-0.0179</td><td>0.0132</td><td>3531</td><td>0.0196</td><td>0.0</td><td>4711</td><td>0.0</td><td>1700</td><td>0.0121</td><td>0.0</td><td>CFX</td><td>7</td><td>CFX7</td><td>42.178636363636365</td><td>123850.86363636363</td><td>1.3480205e6</td><td>NaN</td><td>0.16289254545454546</td><td>14.35272727</td><td>0.023122246</td><td>0.025768641</td><td>0.016226211</td></tr><tr><th>11</th><td>12</td><td>21</td><td>142</td><td>19810</td><td>0</td><td>12806</td><td>200</td><td>13006</td><td>0</td><td>0</td><td>0</td><td>0</td><td>0.0035</td><td>0.0046</td><td>400</td><td>0.0035</td><td>0.0</td><td>12406</td><td>0.0</td><td>200</td><td>0.0046</td><td>0.0</td><td>AAU</td><td>7</td><td>AAU7</td><td>0.7162409090909091</td><td>73148.0</td><td>92357.27272727272</td><td>NaN</td><td>0.4476701818181818</td><td>14.35272727</td><td>0.023122246</td><td>0.025768641</td><td>0.016226211</td></tr><tr><th>12</th><td>12</td><td>21</td><td>1844</td><td>248293</td><td>8449</td><td>176244</td><td>790</td><td>177034</td><td>0</td><td>0</td><td>0</td><td>0</td><td>0.0094</td><td>0.012</td><td>11560</td><td>0.0097</td><td>0.0</td><td>162588</td><td>0.0</td><td>2886</td><td>0.0117</td><td>0.0</td><td>HTLD</td><td>6</td><td>HTLD6</td><td>20.83568181818182</td><td>87794.22727272728</td><td>587192.7727272727</td><td>NaN</td><td>0.23356154545454544</td><td>14.33954545</td><td>0.000675371</td><td>0.014720609</td><td>0.014262069</td></tr><tr><th>13</th><td>12</td><td>23</td><td>20</td><td>59455</td><td>0</td><td>19640</td><td>2400</td><td>22040</td><td>0</td><td>0</td><td>0</td><td>0</td><td>-0.0376</td><td>0.015</td><td>100</td><td>0.01</td><td>0.0</td><td>20364</td><td>0.4</td><td>1576</td><td>0.01</td><td>0.0</td><td>SLCA</td><td>8</td><td>SLCA8</td><td>22.090000000000003</td><td>53392.0</td><td>2.287287523809524e6</td><td>NaN</td><td>0.883111857142857</td><td>19.42809524</td><td>0.024325982</td><td>0.062810717</td><td>0.000388543</td></tr><tr><th>14</th><td>12</td><td>23</td><td>6</td><td>17548</td><td>0</td><td>13558</td><td>690</td><td>14248</td><td>0</td><td>0</td><td>0</td><td>0</td><td>-0.2144</td><td>0.0619</td><td>5178</td><td>0.0244</td><td>0.0</td><td>4112</td><td>0.0</td><td>4958</td><td>0.0406</td><td>0.0</td><td>RGLS</td><td>3</td><td>RGLS3</td><td>18.590454545454545</td><td>50541.5</td><td>552546.0</td><td>NaN</td><td>0.6403125454545454</td><td>14.81272727</td><td>-0.041376827</td><td>-0.014525278</td><td>0.00912096</td></tr><tr><th>15</th><td>11</td><td>22</td><td>4</td><td>4203</td><td>0</td><td>1769</td><td>2434</td><td>4203</td><td>0</td><td>0</td><td>0</td><td>0</td><td>0.6024</td><td>0.1344</td><td>3056</td><td>0.0358</td><td>0.0</td><td>547</td><td>0.0</td><td>600</td><td>0.0283</td><td>0.0</td><td>DPZ</td><td>4</td><td>DPZ4</td><td>102.84428571428569</td><td>55600.619047619046</td><td>583095.8571428572</td><td>NaN</td><td>0.26095152380952386</td><td>13.4947619</td><td>-0.002403011</td><td>0.02698389</td><td>-0.012508165</td></tr><tr><th>16</th><td>12</td><td>22</td><td>111</td><td>86099</td><td>10000</td><td>57371</td><td>4100</td><td>61471</td><td>0</td><td>0</td><td>0</td><td>0</td><td>0.007</td><td>0.0147</td><td>552</td><td>0.0073</td><td>0.0</td><td>59919</td><td>0.0</td><td>1000</td><td>0.01</td><td>0.0</td><td>GOGL</td><td>5</td><td>GOGL5</td><td>4.7295</td><td>176429.0</td><td>366191.95</td><td>NaN</td><td>0.5482137499999999</td><td>13.3385</td><td>0.016801706</td><td>0.016479423</td><td>0.04530087</td></tr><tr><th>17</th><td>12</td><td>22</td><td>5</td><td>4475</td><td>0</td><td>4275</td><td>0</td><td>4275</td><td>0</td><td>0</td><td>0</td><td>0</td><td>0.0392</td><td>0.1269</td><td>700</td><td>0.0257</td><td>0.0</td><td>3575</td><td>0.0</td><td>0</td><td>0.0</td><td>0.0</td><td>UMDD</td><td>6</td><td>UMDD6</td><td>66.40323181818182</td><td>747.7272727272727</td><td>13988.863636363636</td><td>NaN</td><td>0.29402245454545456</td><td>14.33954545</td><td>0.000675371</td><td>0.014720609</td><td>0.014262069</td></tr><tr><th>18</th><td>12</td><td>22</td><td>48</td><td>36590</td><td>1075</td><td>19881</td><td>3281</td><td>23162</td><td>0</td><td>0</td><td>0</td><td>0</td><td>0.0419</td><td>0.032</td><td>4522</td><td>0.0222</td><td>0.0</td><td>17840</td><td>0.0</td><td>800</td><td>0.015</td><td>0.0</td><td>EGN</td><td>7</td><td>EGN7</td><td>59.874545454545455</td><td>78787.0</td><td>912590.4545454546</td><td>NaN</td><td>0.35304736363636363</td><td>14.35272727</td><td>0.023122246</td><td>0.025768641</td><td>0.016226211</td></tr><tr><th>19</th><td>11</td><td>23</td><td>1</td><td>2500</td><td>0</td><td>1200</td><td>1300</td><td>2500</td><td>0</td><td>0</td><td>0</td><td>0</td><td>0.0092</td><td>-0.0108</td><td>2500</td><td>0.0104</td><td>0.0</td><td>0</td><td>0.0</td><td>0</td><td>0.0</td><td>0.0</td><td>JBL</td><td>4</td><td>JBL4</td><td>23.50333333333333</td><td>193249.61904761905</td><td>1.617253238095238e6</td><td>NaN</td><td>0.2293560952380952</td><td>13.4947619</td><td>-0.002403011</td><td>0.02698389</td><td>-0.012508165</td></tr><tr><th>20</th><td>12</td><td>21</td><td>860</td><td>119846</td><td>7800</td><td>96375</td><td>0</td><td>96375</td><td>0</td><td>0</td><td>0</td><td>0</td><td>0.0027</td><td>0.0093</td><td>5800</td><td>0.0067</td><td>0.0</td><td>90375</td><td>0.0</td><td>200</td><td>0.01</td><td>0.0</td><td>PKD</td><td>3</td><td>PKD3</td><td>3.1954545454545458</td><td>122047.68181818182</td><td>612243.6363636364</td><td>NaN</td><td>0.6160281818181819</td><td>14.81272727</td><td>-0.041376827</td><td>-0.014525278</td><td>0.00912096</td></tr><tr><th>21</th><td>12</td><td>23</td><td>15</td><td>45065</td><td>0</td><td>38798</td><td>3567</td><td>42365</td><td>0</td><td>0</td><td>0</td><td>0</td><td>0.0107</td><td>0.0195</td><td>100</td><td>0.01</td><td>0.0</td><td>42265</td><td>0.0</td><td>0</td><td>0.0</td><td>0.0</td><td>FXY</td><td>4</td><td>FXY4</td><td>81.29904285714285</td><td>1088.095238095238</td><td>121831.90476190476</td><td>NaN</td><td>0.06555142857142858</td><td>13.4947619</td><td>-0.002403011</td><td>0.02698389</td><td>-0.012508165</td></tr><tr><th>22</th><td>12</td><td>23</td><td>8</td><td>28300</td><td>900</td><td>22600</td><td>4800</td><td>27400</td><td>0</td><td>0</td><td>0</td><td>0</td><td>-0.0338</td><td>0.0488</td><td>2100</td><td>0.01</td><td>0.0</td><td>21800</td><td>0.0</td><td>3500</td><td>0.02</td><td>0.0</td><td>MARA</td><td>2</td><td>MARA2</td><td>6.983421052631579</td><td>13791.0</td><td>87384.84210526316</td><td>NaN</td><td>NaN</td><td>15.90421053</td><td>-0.014578715</td><td>0.001904306</td><td>-0.01277631</td></tr><tr><th>23</th><td>12</td><td>21</td><td>3679</td><td>704583</td><td>602300</td><td>94743</td><td>251</td><td>94994</td><td>0</td><td>0</td><td>0</td><td>0</td><td>0.0059</td><td>0.0138</td><td>13135</td><td>0.0093</td><td>0.0</td><td>81759</td><td>0.0</td><td>100</td><td>0.02</td><td>0.0</td><td>FXD</td><td>4</td><td>FXD4</td><td>37.22541904761905</td><td>65238.09523809524</td><td>362493.85714285716</td><td>NaN</td><td>0.116561</td><td>13.4947619</td><td>-0.002403011</td><td>0.02698389</td><td>-0.012508165</td></tr><tr><th>24</th><td>12</td><td>23</td><td>289</td><td>794145</td><td>25939</td><td>551368</td><td>37080</td><td>588448</td><td>0</td><td>0</td><td>0</td><td>0</td><td>0.0043</td><td>0.0083</td><td>53437</td><td>0.0085</td><td>0.0</td><td>520967</td><td>0.0</td><td>14044</td><td>0.0096</td><td>0.0</td><td>KO</td><td>8</td><td>KO8</td><td>40.600952380952386</td><td>4.350004e6</td><td>1.633703319047619e7</td><td>NaN</td><td>0.12767861904761904</td><td>19.42809524</td><td>0.024325982</td><td>0.062810717</td><td>0.000388543</td></tr><tr><th>25</th><td>12</td><td>21</td><td>473</td><td>61563</td><td>1440</td><td>47874</td><td>700</td><td>48574</td><td>0</td><td>0</td><td>0</td><td>0</td><td>0.0054</td><td>0.0152</td><td>2465</td><td>0.009</td><td>0.0</td><td>45348</td><td>0.0</td><td>761</td><td>0.01</td><td>0.0</td><td>HHS</td><td>2</td><td>HHS2</td><td>7.937368421052632</td><td>62068.0</td><td>163668.05263157896</td><td>NaN</td><td>0.28162557894736845</td><td>15.90421053</td><td>-0.014578715</td><td>0.001904306</td><td>-0.01277631</td></tr><tr><th>26</th><td>11</td><td>22</td><td>101</td><td>85749</td><td>0</td><td>55767</td><td>29982</td><td>85749</td><td>0</td><td>0</td><td>0</td><td>0</td><td>-0.1561</td><td>-0.0234</td><td>32398</td><td>0.0613</td><td>0.0</td><td>48665</td><td>0.0</td><td>4686</td><td>0.0117</td><td>0.2</td><td>JPM</td><td>8</td><td>JPM8</td><td>66.23904761904762</td><td>3.710467e6</td><td>1.777572380952381e7</td><td>NaN</td><td>0.18643514285714285</td><td>19.42809524</td><td>0.024325982</td><td>0.062810717</td><td>0.000388543</td></tr><tr><th>27</th><td>12</td><td>21</td><td>247</td><td>25464</td><td>0</td><td>23717</td><td>0</td><td>23717</td><td>0</td><td>0</td><td>0</td><td>0</td><td>-0.0245</td><td>0.0104</td><td>0</td><td>0.0</td><td>0.0</td><td>23717</td><td>0.0</td><td>0</td><td>0.0</td><td>0.0</td><td>NPD</td><td>3</td><td>NPD3</td><td>1.6586363636363637</td><td>27189.0</td><td>63636.77272727273</td><td>NaN</td><td>0.4385347727272727</td><td>14.81272727</td><td>-0.041376827</td><td>-0.014525278</td><td>0.00912096</td></tr><tr><th>28</th><td>12</td><td>23</td><td>5</td><td>16009</td><td>0</td><td>1502</td><td>1498</td><td>3000</td><td>0</td><td>0</td><td>0</td><td>0</td><td>-0.007</td><td>0.0093</td><td>200</td><td>0.005</td><td>0.0</td><td>2800</td><td>0.0</td><td>0</td><td>0.0</td><td>0.0</td><td>SKT</td><td>3</td><td>SKT3</td><td>35.282272727272726</td><td>95510.0</td><td>747372.0</td><td>NaN</td><td>0.19037227272727275</td><td>14.81272727</td><td>-0.041376827</td><td>-0.014525278</td><td>0.00912096</td></tr><tr><th>29</th><td>11</td><td>22</td><td>1</td><td>1285</td><td>0</td><td>985</td><td>300</td><td>1285</td><td>0</td><td>0</td><td>0</td><td>0</td><td>0.0222</td><td>0.0422</td><td>0</td><td>0.0</td><td>0.0</td><td>500</td><td>0.0</td><td>785</td><td>0.01</td><td>0.0</td><td>TWER</td><td>6</td><td>TWER6</td><td>2.0109090909090908</td><td>66741.18181818182</td><td>85624.40909090909</td><td>NaN</td><td>0.4576293636363636</td><td>14.33954545</td><td>0.000675371</td><td>0.014720609</td><td>0.014262069</td></tr><tr><th>30</th><td>12</td><td>23</td><td>27</td><td>65297</td><td>31000</td><td>25398</td><td>4600</td><td>29998</td><td>0</td><td>0</td><td>0</td><td>0</td><td>-0.0005</td><td>0.0095</td><td>701</td><td>0.0071</td><td>0.0</td><td>29297</td><td>0.0</td><td>0</td><td>0.0</td><td>0.0</td><td>SCHX</td><td>5</td><td>SCHX5</td><td>50.60600000000001</td><td>86690.0</td><td>398333.2</td><td>NaN</td><td>0.09842609999999999</td><td>13.3385</td><td>0.016801706</td><td>0.016479423</td><td>0.04530087</td></tr><tr><th>&vellip;</th><td>&vellip;</td><td>&vellip;</td><td>&vellip;</td><td>&vellip;</td><td>&vellip;</td><td>&vellip;</td><td>&vellip;</td><td>&vellip;</td><td>&vellip;</td><td>&vellip;</td><td>&vellip;</td><td>&vellip;</td><td>&vellip;</td><td>&vellip;</td><td>&vellip;</td><td>&vellip;</td><td>&vellip;</td><td>&vellip;</td><td>&vellip;</td><td>&vellip;</td><td>&vellip;</td><td>&vellip;</td><td>&vellip;</td><td>&vellip;</td><td>&vellip;</td><td>&vellip;</td><td>&vellip;</td><td>&vellip;</td><td>&vellip;</td><td>&vellip;</td><td>&vellip;</td><td>&vellip;</td><td>&vellip;</td><td>&vellip;</td></tr></tbody></table>"
      ],
      "text/plain": [
       "167379×34 DataFrames.DataFrame\n",
       "│ Row    │ ORTC │ ORSC │ TCOR │ TCSH   │ CNSH  │ MCSH   │ AWSH  │ f0t9   │\n",
       "├────────┼──────┼──────┼──────┼────────┼───────┼────────┼───────┼────────┤\n",
       "│ 1      │ 12   │ 22   │ 149  │ 126520 │ 3000  │ 52126  │ 0     │ 52126  │\n",
       "│ 2      │ 12   │ 22   │ 219  │ 183790 │ 710   │ 158759 │ 300   │ 159059 │\n",
       "│ 3      │ 12   │ 23   │ 32   │ 93797  │ 2000  │ 54161  │ 28475 │ 82636  │\n",
       "│ 4      │ 12   │ 21   │ 1111 │ 143530 │ 500   │ 124565 │ 4927  │ 129492 │\n",
       "│ 5      │ 11   │ 24   │ 7    │ 39000  │ 0     │ 8400   │ 30600 │ 39000  │\n",
       "│ 6      │ 12   │ 21   │ 331  │ 44137  │ 1795  │ 39056  │ 910   │ 39966  │\n",
       "│ 7      │ 12   │ 21   │ 3832 │ 500330 │ 23812 │ 349265 │ 4645  │ 353910 │\n",
       "│ 8      │ 12   │ 22   │ 59   │ 40881  │ 1594  │ 18244  │ 7823  │ 26067  │\n",
       "│ 9      │ 11   │ 21   │ 3    │ 300    │ 0     │ 200    │ 100   │ 300    │\n",
       "│ 10     │ 11   │ 21   │ 84   │ 9942   │ 0     │ 6270   │ 3672  │ 9942   │\n",
       "│ 11     │ 12   │ 21   │ 142  │ 19810  │ 0     │ 12806  │ 200   │ 13006  │\n",
       "⋮\n",
       "│ 167368 │ 12   │ 21   │ 1030 │ 137329 │ 5188  │ 106513 │ 3191  │ 109704 │\n",
       "│ 167369 │ 11   │ 22   │ 2    │ 2000   │ 0     │ 2000   │ 0     │ 2000   │\n",
       "│ 167370 │ 11   │ 21   │ 438  │ 63501  │ 0     │ 45602  │ 17899 │ 63501  │\n",
       "│ 167371 │ 12   │ 21   │ 903  │ 115174 │ 821   │ 83662  │ 6980  │ 90642  │\n",
       "│ 167372 │ 11   │ 24   │ 3    │ 15000  │ 0     │ 7180   │ 7820  │ 15000  │\n",
       "│ 167373 │ 12   │ 21   │ 4866 │ 829131 │ 35147 │ 748087 │ 6996  │ 754883 │\n",
       "│ 167374 │ 12   │ 21   │ 1053 │ 119943 │ 15197 │ 74258  │ 2051  │ 76309  │\n",
       "│ 167375 │ 12   │ 22   │ 18   │ 15054  │ 268   │ 4661   │ 2832  │ 7493   │\n",
       "│ 167376 │ 11   │ 21   │ 25   │ 5187   │ 0     │ 4087   │ 1100  │ 5187   │\n",
       "│ 167377 │ 11   │ 22   │ 1    │ 740    │ 0     │ 740    │ 0     │ 740    │\n",
       "│ 167378 │ 12   │ 21   │ 3338 │ 472965 │ 13007 │ 342986 │ 8175  │ 351161 │\n",
       "│ 167379 │ 11   │ 21   │ 15   │ 1500   │ 0     │ 700    │ 800   │ 1500   │\n",
       "\n",
       "│ Row    │ f10t29 │ f30t59 │ f60t299 │ ft30m │ ARSP    │ AESP   │ PISH  │\n",
       "├────────┼────────┼────────┼─────────┼───────┼─────────┼────────┼───────┤\n",
       "│ 1      │ 0      │ 0      │ 0       │ 0     │ 0.0036  │ 0.0227 │ 1812  │\n",
       "│ 2      │ 0      │ 0      │ 0       │ 0     │ 0.0015  │ 0.0116 │ 22088 │\n",
       "│ 3      │ 0      │ 0      │ 0       │ 0     │ 0.022   │ 0.015  │ 16243 │\n",
       "│ 4      │ 0      │ 0      │ 0       │ 0     │ 0.0239  │ 0.0572 │ 21744 │\n",
       "│ 5      │ 0      │ 0      │ 0       │ 0     │ -0.0011 │ 0.0045 │ 12050 │\n",
       "│ 6      │ 0      │ 0      │ 0       │ 0     │ 0.0088  │ 0.0215 │ 1601  │\n",
       "│ 7      │ 0      │ 0      │ 0       │ 0     │ 0.0344  │ 0.0203 │ 61770 │\n",
       "│ 8      │ 0      │ 0      │ 0       │ 0     │ 0.0083  │ 0.0182 │ 8113  │\n",
       "│ 9      │ 0      │ 0      │ 0       │ 0     │ -0.21   │ 0.14   │ 0     │\n",
       "│ 10     │ 0      │ 0      │ 0       │ 0     │ -0.0179 │ 0.0132 │ 3531  │\n",
       "│ 11     │ 0      │ 0      │ 0       │ 0     │ 0.0035  │ 0.0046 │ 400   │\n",
       "⋮\n",
       "│ 167368 │ 0      │ 0      │ 0       │ 0     │ 0.0248  │ 0.03   │ 23455 │\n",
       "│ 167369 │ 0      │ 0      │ 0       │ 0     │ 0.025   │ 0.03   │ 0     │\n",
       "│ 167370 │ 0      │ 0      │ 0       │ 0     │ 0.0136  │ 0.0035 │ 24145 │\n",
       "│ 167371 │ 0      │ 0      │ 0       │ 0     │ -0.0022 │ 0.0799 │ 15119 │\n",
       "│ 167372 │ 0      │ 0      │ 0       │ 0     │ 0.0345  │ 0.0745 │ 3564  │\n",
       "│ 167373 │ 200    │ 0      │ 0       │ 0     │ 0.0009  │ 0.0075 │ 86380 │\n",
       "│ 167374 │ 0      │ 0      │ 0       │ 0     │ 0.0186  │ 0.0259 │ 11732 │\n",
       "│ 167375 │ 0      │ 0      │ 0       │ 0     │ -0.1108 │ 0.1132 │ 700   │\n",
       "│ 167376 │ 0      │ 0      │ 0       │ 0     │ 0.0702  │ 0.0116 │ 2460  │\n",
       "│ 167377 │ 0      │ 0      │ 0       │ 0     │ 0.05    │ 0.02   │ 0     │\n",
       "│ 167378 │ 0      │ 0      │ 0       │ 0     │ 0.0216  │ 0.0137 │ 25078 │\n",
       "│ 167379 │ 0      │ 0      │ 0       │ 0     │ -0.0007 │ 0.008  │ 700   │\n",
       "\n",
       "│ Row    │ PIAM   │ PIAT │ AQSH   │ AQAT │ OQSH  │ OQAM   │ OQAT │ TICKER │\n",
       "├────────┼────────┼──────┼────────┼──────┼───────┼────────┼──────┼────────┤\n",
       "│ 1      │ 0.01   │ 0.0  │ 48314  │ 0.0  │ 2000  │ 0.015  │ 0.0  │ \"RPV\"  │\n",
       "│ 2      │ 0.0073 │ 0.0  │ 134171 │ 0.0  │ 2800  │ 0.0136 │ 0.0  │ \"IDV\"  │\n",
       "│ 3      │ 0.0138 │ 0.0  │ 63393  │ 0.0  │ 3000  │ 0.01   │ 0.0  │ \"GENE\" │\n",
       "│ 4      │ 0.0254 │ 0.0  │ 105198 │ 0.0  │ 2550  │ 0.0135 │ 0.0  │ \"HABT\" │\n",
       "│ 5      │ 0.01   │ 0.0  │ 25550  │ 0.0  │ 1400  │ 0.01   │ 0.0  │ \"SYMX\" │\n",
       "│ 6      │ 0.0159 │ 0.0  │ 37919  │ 0.0  │ 446   │ 0.0161 │ 0.0  │ \"AMBR\" │\n",
       "│ 7      │ 0.0101 │ 0.0  │ 283659 │ 0.0  │ 8481  │ 0.0149 │ 0.0  │ \"TIF\"  │\n",
       "│ 8      │ 0.0211 │ 0.0  │ 17018  │ 0.1  │ 936   │ 0.01   │ 0.0  │ \"AOS\"  │\n",
       "│ 9      │ 0.0    │ 0.0  │ 300    │ 0.0  │ 0     │ 0.0    │ 0.0  │ \"WRLD\" │\n",
       "│ 10     │ 0.0196 │ 0.0  │ 4711   │ 0.0  │ 1700  │ 0.0121 │ 0.0  │ \"CFX\"  │\n",
       "│ 11     │ 0.0035 │ 0.0  │ 12406  │ 0.0  │ 200   │ 0.0046 │ 0.0  │ \"AAU\"  │\n",
       "⋮\n",
       "│ 167368 │ 0.0154 │ 0.0  │ 82152  │ 0.0  │ 4097  │ 0.0228 │ 0.0  │ \"LFC\"  │\n",
       "│ 167369 │ 0.0    │ 0.0  │ 2000   │ 0.0  │ 0     │ 0.0    │ 0.0  │ \"SRTY\" │\n",
       "│ 167370 │ 0.0161 │ 0.0  │ 35256  │ 0.0  │ 4100  │ 0.0149 │ 0.0  │ \"COH\"  │\n",
       "│ 167371 │ 0.0333 │ 0.0  │ 73297  │ 0.0  │ 2226  │ 0.0211 │ 0.0  │ \"WING\" │\n",
       "│ 167372 │ 0.0166 │ 0.0  │ 1436   │ 0.0  │ 10000 │ 0.0368 │ 0.0  │ \"WLL\"  │\n",
       "│ 167373 │ 0.0052 │ 0.0  │ 667703 │ 0.0  │ 1000  │ 0.008  │ 0.0  │ \"NOK\"  │\n",
       "│ 167374 │ 0.0134 │ 0.0  │ 61660  │ 0.0  │ 2917  │ 0.0136 │ 0.0  │ \"INGR\" │\n",
       "│ 167375 │ 0.0114 │ 0.0  │ 5632   │ 0.0  │ 1161  │ 0.0158 │ 0.0  │ \"WLB\"  │\n",
       "│ 167376 │ 0.0591 │ 0.0  │ 2627   │ 0.0  │ 100   │ 0.01   │ 0.0  │ \"IRBT\" │\n",
       "│ 167377 │ 0.0    │ 0.0  │ 740    │ 0.0  │ 0     │ 0.0    │ 0.0  │ \"RESI\" │\n",
       "│ 167378 │ 0.0135 │ 0.0  │ 316106 │ 0.0  │ 9977  │ 0.0155 │ 0.0  │ \"LHO\"  │\n",
       "│ 167379 │ 0.0143 │ 0.0  │ 500    │ 0.0  │ 300   │ 0.01   │ 0.0  │ \"MTGE\" │\n",
       "\n",
       "│ Row    │ MONTH │ ID      │ PRC      │ SHROUT    │ VOL       │ MMCNT │\n",
       "├────────┼───────┼─────────┼──────────┼───────────┼───────────┼───────┤\n",
       "│ 1      │ 1     │ \"RPV1\"  │ 52.628   │ 21839.5   │ 3.05203e5 │ NaN   │\n",
       "│ 2      │ 6     │ \"IDV6\"  │ 33.6927  │ 1.29793e5 │ 7.1876e5  │ NaN   │\n",
       "│ 3      │ 5     │ \"GENE5\" │ 4.295    │ 8744.0    │ 8.22573e5 │ NaN   │\n",
       "│ 4      │ 2     │ \"HABT2\" │ 31.6021  │ 8975.0    │ 2.93882e5 │ NaN   │\n",
       "│ 5      │ 4     │ \"SYMX4\" │ 1.18121  │ 76157.1   │ 1.32952e6 │ NaN   │\n",
       "│ 6      │ 3     │ \"AMBR3\" │ 8.985    │ 25777.9   │ 62557.5   │ NaN   │\n",
       "│ 7      │ 2     │ \"TIF2\"  │ 88.7353  │ 129354.0  │ 1.12286e6 │ NaN   │\n",
       "│ 8      │ 1     │ \"AOS1\"  │ 56.107   │ 76364.9   │ 6.40796e5 │ NaN   │\n",
       "│ 9      │ 4     │ \"WRLD4\" │ 75.5164  │ 8970.0    │ 2.51187e5 │ NaN   │\n",
       "│ 10     │ 7     │ \"CFX7\"  │ 42.1786  │ 1.23851e5 │ 1.34802e6 │ NaN   │\n",
       "│ 11     │ 7     │ \"AAU7\"  │ 0.716241 │ 73148.0   │ 92357.3   │ NaN   │\n",
       "⋮\n",
       "│ 167368 │ 5     │ \"LFC5\"  │ 65.7405  │ 30847.7   │ 2.76387e5 │ NaN   │\n",
       "│ 167369 │ 7     │ \"SRTY7\" │ 25.275   │ 4129.0    │ 9.12131e5 │ NaN   │\n",
       "│ 167370 │ 8     │ \"COH8\"  │ 31.1414  │ 2.76303e5 │ 5.53072e6 │ NaN   │\n",
       "│ 167371 │ 7     │ \"WING7\" │ 31.2848  │ 28581.0   │ 3.30661e5 │ NaN   │\n",
       "│ 167372 │ 1     │ \"WLL1\"  │ 28.964   │ 1.66493e5 │ 7.49696e6 │ NaN   │\n",
       "│ 167373 │ 4     │ \"NOK4\"  │ 7.72429  │ 725633.0  │ 4.2409e7  │ NaN   │\n",
       "│ 167374 │ 5     │ \"INGR5\" │ 81.408   │ 71549.0   │ 3.41989e5 │ NaN   │\n",
       "│ 167375 │ 1     │ \"WLB1\"  │ 31.2285  │ 17103.0   │ 1.52664e5 │ NaN   │\n",
       "│ 167376 │ 3     │ \"IRBT3\" │ 33.0493  │ 29676.8   │ 5.32012e5 │ NaN   │\n",
       "│ 167377 │ 5     │ \"RESI5\" │ 18.502   │ 57203.0   │ 4.69179e5 │ NaN   │\n",
       "│ 167378 │ 4     │ \"LHO4\"  │ 38.0171  │ 112904.0  │ 9.54633e5 │ NaN   │\n",
       "│ 167379 │ 1     │ \"MTGE1\" │ 18.8983  │ 51165.0   │ 5.16709e5 │ NaN   │\n",
       "\n",
       "│ Row    │ RVOL     │ AVG_VIX │ PS_LEVEL    │ PS_INNOV   │ PS_VWF      │\n",
       "├────────┼──────────┼─────────┼─────────────┼────────────┼─────────────┤\n",
       "│ 1      │ 0.207013 │ 19.1195 │ 8.25e-5     │ 0.0321934  │ -0.0120195  │\n",
       "│ 2      │ 0.153161 │ 14.3395 │ 0.000675371 │ 0.0147206  │ 0.0142621   │\n",
       "│ 3      │ 0.737199 │ 13.3385 │ 0.0168017   │ 0.0164794  │ 0.0453009   │\n",
       "│ 4      │ NaN      │ 15.9042 │ -0.0145787  │ 0.00190431 │ -0.0127763  │\n",
       "│ 5      │ 0.911891 │ 13.4948 │ -0.00240301 │ 0.0269839  │ -0.0125082  │\n",
       "│ 6      │ 0.505199 │ 14.8127 │ -0.0413768  │ -0.0145253 │ 0.00912096  │\n",
       "│ 7      │ 0.374319 │ 15.9042 │ -0.0145787  │ 0.00190431 │ -0.0127763  │\n",
       "│ 8      │ 0.214686 │ 19.1195 │ 8.25e-5     │ 0.0321934  │ -0.0120195  │\n",
       "│ 9      │ 0.599895 │ 13.4948 │ -0.00240301 │ 0.0269839  │ -0.0125082  │\n",
       "│ 10     │ 0.162893 │ 14.3527 │ 0.0231222   │ 0.0257686  │ 0.0162262   │\n",
       "│ 11     │ 0.44767  │ 14.3527 │ 0.0231222   │ 0.0257686  │ 0.0162262   │\n",
       "⋮\n",
       "│ 167368 │ 0.386999 │ 13.3385 │ 0.0168017   │ 0.0164794  │ 0.0453009   │\n",
       "│ 167369 │ 0.413476 │ 14.3527 │ 0.0231222   │ 0.0257686  │ 0.0162262   │\n",
       "│ 167370 │ 0.321535 │ 19.4281 │ 0.024326    │ 0.0628107  │ 0.000388543 │\n",
       "│ 167371 │ 0.618405 │ 14.3527 │ 0.0231222   │ 0.0257686  │ 0.0162262   │\n",
       "│ 167372 │ 0.927242 │ 19.1195 │ 8.25e-5     │ 0.0321934  │ -0.0120195  │\n",
       "│ 167373 │ 0.302092 │ 13.4948 │ -0.00240301 │ 0.0269839  │ -0.0125082  │\n",
       "│ 167374 │ 0.154401 │ 13.3385 │ 0.0168017   │ 0.0164794  │ 0.0453009   │\n",
       "│ 167375 │ 0.465533 │ 19.1195 │ 8.25e-5     │ 0.0321934  │ -0.0120195  │\n",
       "│ 167376 │ 0.278002 │ 14.8127 │ -0.0413768  │ -0.0145253 │ 0.00912096  │\n",
       "│ 167377 │ 0.246496 │ 13.3385 │ 0.0168017   │ 0.0164794  │ 0.0453009   │\n",
       "│ 167378 │ 0.227284 │ 13.4948 │ -0.00240301 │ 0.0269839  │ -0.0125082  │\n",
       "│ 167379 │ 0.162942 │ 19.1195 │ 8.25e-5     │ 0.0321934  │ -0.0120195  │"
      ]
     },
     "execution_count": 68,
     "metadata": {},
     "output_type": "execute_result"
    }
   ],
   "source": [
    "function shuffle(X)\n",
    "    n = size(X)[1]\n",
    "    rand_ind = sortperm(rand(n))\n",
    "    X_s = X[rand_ind,:]\n",
    "    return X_s\n",
    "end\n",
    "\n",
    "MASTER = load(\"MASTER.jld\")[\"MASTER\"]\n",
    "MASTER = shuffle(MASTER)"
   ]
  },
  {
   "cell_type": "code",
   "execution_count": 69,
   "metadata": {},
   "outputs": [
    {
     "data": {
      "text/plain": [
       "(167379, 34)"
      ]
     },
     "execution_count": 69,
     "metadata": {},
     "output_type": "execute_result"
    }
   ],
   "source": [
    "MASTER = MASTER[MASTER[:TCOR] .>=0,:];\n",
    "size(MASTER)"
   ]
  },
  {
   "cell_type": "code",
   "execution_count": 63,
   "metadata": {},
   "outputs": [
    {
     "data": {
      "text/plain": [
       "(52843, 15)"
      ]
     },
     "execution_count": 63,
     "metadata": {},
     "output_type": "execute_result"
    }
   ],
   "source": [
    "Xdf = DataFrame()\n",
    "\n",
    "Xdf[:VIX] = MASTER[:AVG_VIX]\n",
    "Xdf[:PSL] = MASTER[:PS_LEVEL]\n",
    "Xdf[:PSIN] = MASTER[:PS_INNOV]\n",
    "Xdf[:PSV] = MASTER[:PS_VWF]\n",
    "Xdf[:MK] = Int.(MASTER[:ORTC] .== 11)\n",
    "Xdf[:MKL] = Int.(MASTER[:ORTC] .== 12)\n",
    "Xdf[:SHPO] = MASTER[:TCSH]./MASTER[:TCOR]\n",
    "Xdf[:PVOL] = MASTER[:VOL]./MASTER[:SHROUT]\n",
    "Xdf[:DVOL] = MASTER[:VOL].*MASTER[:PRC]\n",
    "Xdf[:MCAP] = MASTER[:SHROUT].*MASTER[:PRC]\n",
    "Xdf[:RVOLA] = MASTER[:RVOL]\n",
    "Xdf[:PRC] = MASTER[:PRC]\n",
    "Xdf[:AWSHP] = MASTER[:AWSH]./(MASTER[:TCSH] .- MASTER[:CNSH])\n",
    "Xdf[:SLOW] = (MASTER[:f10t29].+MASTER[:f30t59].+MASTER[:f60t299].+MASTER[:ft30m])./MASTER[:TCSH]\n",
    "\n",
    "#this is Y, will remove\n",
    "Xdf[:AESP] = MASTER[:AESP]\n",
    "\n",
    "size(Xdf)\n"
   ]
  },
  {
   "cell_type": "code",
   "execution_count": 64,
   "metadata": {},
   "outputs": [
    {
     "name": "stdout",
     "output_type": "stream",
     "text": [
      "size(Xdf) = (52017, 15)\n",
      "sum(Xdf[:AESP] .>= 0) = 51714\n",
      "mean(Xdf[:AESP]) = 0.026451535075071614\n"
     ]
    },
    {
     "data": {
      "text/plain": [
       "0.026451535075071614"
      ]
     },
     "execution_count": 64,
     "metadata": {},
     "output_type": "execute_result"
    }
   ],
   "source": [
    "fields = names(Xdf)\n",
    "for f in fields\n",
    "    Xdf[f][isnan.(Xdf[f])] = NA\n",
    "end\n",
    "completecases!(Xdf);\n",
    "@show size(Xdf)\n",
    "@show sum(Xdf[:AESP].>=0)\n",
    "@show mean(Xdf[:AESP])"
   ]
  },
  {
   "cell_type": "code",
   "execution_count": 7,
   "metadata": {
    "collapsed": true
   },
   "outputs": [],
   "source": [
    "#PyPlot.plt[:hist](Xdf[:AESP][Xdf[:AESP].<=.05,:],300)\n",
    "#xlim([0,.05])"
   ]
  },
  {
   "cell_type": "code",
   "execution_count": 65,
   "metadata": {},
   "outputs": [
    {
     "name": "stdout",
     "output_type": "stream",
     "text": [
      "std_Y = std(Xdf[:AESP]) = 0.0696288358925823\n"
     ]
    },
    {
     "data": {
      "text/plain": [
       "16-element Array{Symbol,1}:\n",
       " :OFFSET\n",
       " :VIX   \n",
       " :PSL   \n",
       " :PSIN  \n",
       " :PSV   \n",
       " :MK    \n",
       " :MKL   \n",
       " :SHPO  \n",
       " :PVOL  \n",
       " :DVOL  \n",
       " :MCAP  \n",
       " :RVOLA \n",
       " :PRC   \n",
       " :AWSHP \n",
       " :SLOW  \n",
       " :AESP  "
      ]
     },
     "execution_count": 65,
     "metadata": {},
     "output_type": "execute_result"
    }
   ],
   "source": [
    "\n",
    "size(Xdf)\n",
    "\n",
    "sd = names(Xdf)\n",
    "\n",
    "#dont standardize the one-hot encodings\n",
    "sd = sd[sd.!=:MLIM]\n",
    "sd = sd[sd.!=:LIM]\n",
    "\n",
    "@show std_Y = std(Xdf[:AESP])\n",
    "mean_Y = mean(Xdf[:AESP])\n",
    "Y_true = Xdf[:AESP]\n",
    "\n",
    "#standardize everything else\n",
    "function standard(x)\n",
    "    x_s = x .- mean(x)\n",
    "    x_s = x_s ./ std(x)\n",
    "    return x_s\n",
    "end\n",
    "\n",
    "\n",
    "#OLS Scaling Invariant, Ignore for now\n",
    "\n",
    "for s in sd\n",
    "    Xdf[s] = standard(Xdf[s])\n",
    "end\n",
    "\n",
    "\n",
    "Y = Xdf[:AESP]\n",
    "delete!(Xdf,:AESP)\n",
    "\n",
    "X = Array{Float64}(Xdf)\n",
    "\n",
    "#offset\n",
    "X = [ones(size(X)[1],1) X]\n",
    "\n",
    "Y = Vector(Y)\n",
    "\n",
    "fields = [:OFFSET; fields]\n"
   ]
  },
  {
   "cell_type": "code",
   "execution_count": 9,
   "metadata": {},
   "outputs": [
    {
     "name": "stdout",
     "output_type": "stream",
     "text": [
      "mean_absolute_error = sum(abs(Yhat - Y)) / n = 0.24839256363008966\n",
      "mse = sum((Yhat - Y) .^ 2) / n = 0.8653346967567861\n",
      "correct_classifications = sum(predClass .== yClass) / n = 0.7270932551797126\n",
      "mean(Y) = -3.991325661859153e-17\n",
      "sum(Y .> 0) / n = 0.25594293157487685\n",
      "sum(Y .== 0) = 0\n",
      "sum(Y .< 0) / n = 0.7440570684251231\n",
      "std(Y) = 1.0\n",
      "w_basic = [-2.35889e-16, 0.0169864, -0.0312804, 0.0560984, 0.0195524, -0.0268317, 0.0268317, -0.0455121, -0.0296663, -0.0345981, -0.0885337, 0.0888095, 0.385833, -0.00922357, 0.0435721]\n",
      "fields = Symbol[:OFFSET, :VIX, :PSL, :PSIN, :PSV, :MK, :MKL, :SHPO, :PVOL, :DVOL, :MCAP, :RVOLA, :PRC, :AWSHP, :SLOW, :AESP]\n"
     ]
    },
    {
     "data": {
      "text/plain": [
       "16-element Array{Symbol,1}:\n",
       " :OFFSET\n",
       " :VIX   \n",
       " :PSL   \n",
       " :PSIN  \n",
       " :PSV   \n",
       " :MK    \n",
       " :MKL   \n",
       " :SHPO  \n",
       " :PVOL  \n",
       " :DVOL  \n",
       " :MCAP  \n",
       " :RVOLA \n",
       " :PRC   \n",
       " :AWSHP \n",
       " :SLOW  \n",
       " :AESP  "
      ]
     },
     "execution_count": 9,
     "metadata": {},
     "output_type": "execute_result"
    }
   ],
   "source": [
    "n = size(X)[1]\n",
    "\n",
    "\n",
    "w_basic = X\\Y\n",
    "\n",
    "\n",
    "Yhat = X*w_basic\n",
    "\n",
    "@show mean_absolute_error = sum(abs(Yhat - Y))/n\n",
    "@show mse = sum((Yhat - Y).^2)/n\n",
    "\n",
    "yClass = Int.(Y .> 0)\n",
    "\n",
    "\n",
    "predClass = Yhat .> 0;\n",
    "\n",
    "@show correct_classifications = sum(predClass .== yClass)/n\n",
    "\n",
    "\n",
    "@show mean(Y)\n",
    "\n",
    "@show sum(Y .> 0)/n\n",
    "\n",
    "@show sum(Y.==0)\n",
    "@show sum(Y.<0)/n\n",
    "@show std(Y)\n",
    "@show w_basic\n",
    "@show fields\n"
   ]
  },
  {
   "cell_type": "code",
   "execution_count": null,
   "metadata": {
    "collapsed": true
   },
   "outputs": [],
   "source": []
  },
  {
   "cell_type": "code",
   "execution_count": 10,
   "metadata": {},
   "outputs": [
    {
     "data": {
      "text/plain": [
       "0.6597569910856026"
      ]
     },
     "execution_count": 10,
     "metadata": {},
     "output_type": "execute_result"
    }
   ],
   "source": [
    "Y_class2 = Int.(Y.>median(Y))\n",
    "pred_class2 = Int.(Yhat.>median(Y))\n",
    "\n",
    "sum(Y_class2 .== pred_class2)./n"
   ]
  },
  {
   "cell_type": "code",
   "execution_count": 11,
   "metadata": {},
   "outputs": [],
   "source": [
    "\n",
    "function train_test(X,Y,p)\n",
    "    n = size(X)[1]\n",
    "    ntrain = Int(floor(p*n))\n",
    "    X_train = X[1:ntrain,:]\n",
    "    Y_train = Y[1:ntrain,:]\n",
    "    X_test = X[(ntrain+1):n,:]\n",
    "    Y_test = Y[(ntrain+1):n,:]\n",
    "    return X_train, Y_train, X_test, Y_test\n",
    "\n",
    "end\n",
    "\n",
    "X_train, Y_train, X_test, Y_test = train_test(X,Y,0.8);"
   ]
  },
  {
   "cell_type": "code",
   "execution_count": 12,
   "metadata": {},
   "outputs": [
    {
     "name": "stdout",
     "output_type": "stream",
     "text": [
      "mean_absolute_error_train = sum(abs(Yhat_train - Y_train)) / ntrain = 0.24869960211444642\n",
      "mse_train = sum((Yhat_train - Y_train) .^ 2) / ntrain = 0.9150186097153072\n",
      "mean_absolute_error_test = sum(abs(Yhat - Y_test)) / ntest = 0.24999290861524143\n",
      "mse_test = sum((Yhat - Y_test) .^ 2) / ntest = 0.6705984071923042\n"
     ]
    },
    {
     "data": {
      "text/plain": [
       "0.6705984071923042"
      ]
     },
     "execution_count": 12,
     "metadata": {},
     "output_type": "execute_result"
    }
   ],
   "source": [
    "w_basic = X_train\\Y_train\n",
    "\n",
    "\n",
    "Yhat_train = X_train*w_basic\n",
    "\n",
    "Yhat = X_test*w_basic\n",
    "ntest = size(Y_test)[1]\n",
    "ntrain = size(Y_train)[1]\n",
    "\n",
    "\n",
    "@show mean_absolute_error_train = sum(abs(Yhat_train - Y_train))/ntrain\n",
    "@show mse_train = sum((Yhat_train - Y_train).^2)/ntrain\n",
    "@show mean_absolute_error_test = sum(abs(Yhat - Y_test))/ntest\n",
    "@show mse_test = sum((Yhat - Y_test).^2)/ntest\n"
   ]
  },
  {
   "cell_type": "code",
   "execution_count": 13,
   "metadata": {},
   "outputs": [],
   "source": [
    "k = 10\n",
    "all_inds = Array(Array[1:ntrain][1])\n",
    "cv_inds = collect(Kfold(ntrain, k)); \n",
    "\n",
    "ml1_huber = zeros(k,1)\n",
    "ml1_ls = zeros(k,1)\n",
    "mse_huber = zeros(k,1)\n",
    "mse_ls = zeros(k,1)\n",
    "\n",
    "\n",
    "loss = L1Loss()\n",
    "reg = ZeroReg()\n",
    "\n",
    "for i = 1:k\n",
    "    cvtest = setdiff(all_inds,cv_inds[i])\n",
    "    X_cv = X_train[cv_inds[i],:]\n",
    "    Y_cv = Y_train[cv_inds[i],:]\n",
    "    X_cvt = X_train[cvtest,:]\n",
    "    Y_cvt = Y_train[cvtest,:]\n",
    "    \n",
    "    ntest = size(Y_cvt)[1];\n",
    "    \n",
    "    \n",
    "    \n",
    "    w_ls = X_cv\\Y_cv \n",
    "    yhat_ls = X_cvt*w_ls\n",
    "    \n",
    "    w_hub = proxgrad(loss,reg,X_cv,Y_cv[:])\n",
    "    yhat_hub = X_cvt*w_hub\n",
    "    \n",
    "    \n",
    "    ml1_ls[i] = float(sum(abs(yhat_ls - Y_cvt))/ntest)\n",
    "    ml1_huber[i] = float(sum(abs(yhat_hub - Y_cvt))/ntest)\n",
    "    mse_ls[i] = sum((yhat_ls - Y_cvt).^2)/ntest\n",
    "    mse_huber[i] = sum((yhat_hub - Y_cvt).^2)/ntest\n",
    "    \n",
    "end\n",
    "\n"
   ]
  },
  {
   "cell_type": "code",
   "execution_count": 14,
   "metadata": {},
   "outputs": [
    {
     "name": "stdout",
     "output_type": "stream",
     "text": [
      "mean(ml1_ls) = 0.24889575737031472\n",
      "mean(ml1_huber) = 0.215805162312531\n",
      "mean(mse_ls) = 0.921524324419182\n",
      "mean(mse_huber) = 0.9641691732062867\n"
     ]
    }
   ],
   "source": [
    "@show mean(ml1_ls);\n",
    "@show mean(ml1_huber);\n",
    "\n",
    "@show mean(mse_ls);\n",
    "@show mean(mse_huber);"
   ]
  },
  {
   "cell_type": "code",
   "execution_count": 15,
   "metadata": {
    "scrolled": true
   },
   "outputs": [
    {
     "name": "stdout",
     "output_type": "stream",
     "text": [
      "L1[ks] = 0.2497508914859426\n",
      "L1[ks] = 0.23197598420388427\n",
      "L1[ks] = 0.22781505632727952\n",
      "L1[ks] = 0.2241192353747369\n",
      "L1[ks] = 0.21845384250261043\n",
      "L1[ks] = 0.2168627271627833\n",
      "L1[ks] = 0.21686275848693795\n",
      "L1[ks] = 0.21635650396915546\n",
      "L1[ks] = 0.21620001630624514\n",
      "L1[ks] = 0.21590348239499058\n",
      "L1[ks] = 0.21584936761175003\n",
      "L1[ks] = 0.21584671614171042\n",
      "L1[ks] = 0.21583647847005794\n",
      "L1[ks] = 0.21582036042931124\n",
      "L1[ks] = 0.2158261085086408\n"
     ]
    }
   ],
   "source": [
    "all_inds = Array(Array[1:ntrain][1])\n",
    "cv_inds = collect(Kfold(ntrain, k)); \n",
    "L1 = zeros(100)\n",
    "w_arr = []\n",
    "for ks = 1:15\n",
    "    reg = KSparseConstraint(ks)\n",
    "    mL1 = zeros(15,1)\n",
    "    for i = 1:k\n",
    "        cvtest = setdiff(all_inds,cv_inds[i])\n",
    "        X_cv = X_train[cv_inds[i],:]\n",
    "        Y_cv = Y_train[cv_inds[i],:]\n",
    "        X_cvt = X_train[cvtest,:]\n",
    "        Y_cvt = Y_train[cvtest,:]\n",
    "    \n",
    "        ntest = size(Y_cvt)[1];\n",
    "    \n",
    "    \n",
    "    \n",
    "        w_ls = X_cv\\Y_cv \n",
    "        yhat_ls = X_cvt*w_ls\n",
    "    \n",
    "        w_hub = proxgrad(loss,reg,X_cv,Y_cv[:])\n",
    "        yhat_hub = X_cvt*w_hub\n",
    "    \n",
    "    \n",
    "        ml1_ls[i] = float(sum(abs(yhat_ls - Y_cvt))/ntest)\n",
    "        ml1_huber[i] = float(sum(abs(yhat_hub - Y_cvt))/ntest)\n",
    "        mse_ls[i] = sum((yhat_ls - Y_cvt).^2)/ntest\n",
    "        mse_huber[i] = sum((yhat_hub - Y_cvt).^2)/ntest\n",
    "        \n",
    "        push!(w_arr,w_hub)\n",
    "    \n",
    "    end\n",
    "\n",
    "    L1[ks] = mean(ml1_huber)\n",
    "    @show L1[ks]\n",
    "    \n",
    "end\n",
    "    \n",
    "\n"
   ]
  },
  {
   "cell_type": "code",
   "execution_count": 26,
   "metadata": {},
   "outputs": [
    {
     "name": "stdout",
     "output_type": "stream",
     "text": [
      "mean(w_arr[1:10]) = [-0.169423, 0.0, 0.0, 0.0, 0.0, 0.0, 0.0, 0.0, 0.0, 0.0, 0.0, 0.0, 0.0, 0.0, 0.0]\n",
      "mean(w_arr[11:20]) = [-0.12467, 0.0, 0.0, 0.0, 0.0, 0.0, 0.0, 0.0, 0.0, 0.0, 0.0, 0.0, 0.135113, 0.0, 0.0]\n",
      "mean(w_arr[21:30]) = [-0.125115, 0.0, 0.0, 0.0, 0.0, -0.0354768, 0.0, 0.0, 0.0, 0.0, 0.0, 0.0, 0.145129, 0.0, 0.0]\n",
      "mean(w_arr[31:40]) = [-0.119286, 0.0, 0.0, 0.0, 0.0, -0.0377151, 0.0, 0.0, 0.0, 0.0, 0.0, 0.0378203, 0.169176, 0.0, 0.0]\n",
      "mean(w_arr[41:50]) = [-0.116251, 0.0, 0.0, 0.0, 0.0, -0.0273105, 0.00683902, 0.0, 0.0, 0.0, -0.064451, 0.0343964, 0.198416, 0.0, 0.0]\n",
      "mean(w_arr[51:60]) = [-0.114245, 0.0, 0.0, 0.0, 0.0, -0.0271974, 0.011654, -0.0188557, 0.0, 0.0, -0.0602373, 0.0356362, 0.195324, 0.0, 0.0]\n",
      "mean(w_arr[61:70]) = [-0.114261, 0.0, 0.0, 0.0, 0.0, -0.0194245, 0.0194245, -0.0188578, 0.0, 0.0, -0.0602025, 0.0356294, 0.195274, 0.0, 0.0]\n",
      "mean(w_arr[71:80]) = [-0.114226, 0.0, 0.0, 0.000572434, 0.0, -0.0190079, 0.0190079, -0.0179498, 0.0, -0.0234897, -0.053333, 0.0358963, 0.197657, 0.0, 0.0]\n",
      "mean(w_arr[81:90]) = [-0.114259, 0.0, 0.0, 0.0056841, 0.0, -0.0188454, 0.0188454, -0.0177924, 0.0, -0.0274461, -0.0522948, 0.0355509, 0.197524, 0.0, 0.0]\n",
      "mean(w_arr[91:100]) = [-0.113469, 0.0, 0.0, 0.00572486, 0.0, -0.0184069, 0.0184069, -0.0171362, -0.00970097, -0.0232739, -0.0548004, 0.0392656, 0.200075, 0.0, 0.0]\n",
      "mean(w_arr[101:110]) = [-0.113368, 0.00482159, 0.0, 0.00307752, 0.0, -0.0186344, 0.0186344, -0.017381, -0.00960087, -0.0229599, -0.0549432, 0.0389305, 0.200082, 0.0, 0.0]\n",
      "mean(w_arr[111:120]) = [-0.113419, 0.00393141, -0.00191895, 0.00524526, 0.0, -0.0186355, 0.0186355, -0.0174674, -0.00961427, -0.0227214, -0.0549344, 0.0389634, 0.199861, 0.0, 0.0]\n",
      "mean(w_arr[121:130]) = [-0.113347, 0.00420215, -0.00483866, 0.00797322, 0.00279088, -0.0186075, 0.0186075, -0.0173588, -0.00961584, -0.0224555, -0.054923, 0.0390908, 0.19993, 0.0, 0.0]\n",
      "mean(w_arr[131:140]) = [-0.113566, 0.0042194, -0.00485533, 0.00795594, 0.00279491, -0.0176446, 0.0176446, -0.0168293, -0.0098207, -0.0229369, -0.0549439, 0.0396329, 0.20055, -0.00322262, 0.0]\n",
      "mean(w_arr[141:150]) = [-0.113556, 0.00420697, -0.00485452, 0.00795528, 0.00279402, -0.0176379, 0.0176379, -0.0168745, -0.00981831, -0.0229112, -0.0549398, 0.039626, 0.200546, -0.00324815, 0.000488315]\n"
     ]
    }
   ],
   "source": [
    "@show mean(w_arr[1:10]);\n",
    "@show mean(w_arr[11:20]);\n",
    "@show mean(w_arr[21:30]);\n",
    "@show mean(w_arr[31:40]);\n",
    "@show mean(w_arr[41:50]);\n",
    "@show mean(w_arr[51:60]);\n",
    "@show mean(w_arr[61:70]);\n",
    "@show mean(w_arr[71:80]);\n",
    "@show mean(w_arr[81:90]);\n",
    "@show mean(w_arr[91:100]);\n",
    "@show mean(w_arr[101:110]);\n",
    "@show mean(w_arr[111:120]);\n",
    "@show mean(w_arr[121:130]);\n",
    "@show mean(w_arr[131:140]);\n",
    "@show mean(w_arr[141:150]);\n",
    "fields\n",
    "wdf = DataFrame(w_arr)\n",
    "CSV.write(\"w_arr.csv\",wdf)\n",
    "Xcsvdf = DataFrame(X);\n",
    "names!(Xcsvdf, fields[1:15]);"
   ]
  },
  {
   "cell_type": "code",
   "execution_count": 72,
   "metadata": {},
   "outputs": [
    {
     "name": "stdout",
     "output_type": "stream",
     "text": [
      "in_sample_l1 = mean(abs(Y_train - yhat_train)) = 0.24867411823467198\n",
      "test_l1 = mean(abs(Y_test - yhat)) = 0.249961740331546\n",
      "test_l1 * std_Y = 0.017404544996969487\n",
      "std_Y = 0.0696288358925823\n",
      "w_final = [9.54975e-5, 0.0172975, -0.0312056, 0.0544202, 0.019533, -0.0253295, 0.0253295, -0.0468568, -0.0299096, -0.0340446, -0.088703, 0.0881432, 0.383356, -0.0132815, 0.0716744]\n"
     ]
    },
    {
     "data": {
      "text/plain": [
       "0.0135"
      ]
     },
     "execution_count": 72,
     "metadata": {},
     "output_type": "execute_result"
    }
   ],
   "source": [
    "loss = QuadLoss()\n",
    "reg = ZeroReg()\n",
    "w_final = proxgrad(loss,reg,X_train,Y_train[:])\n",
    "yhat_train = X_train*w_final;\n",
    "\n",
    "@show in_sample_l1 = mean(abs(Y_train - yhat_train))\n",
    "\n",
    "yhat = X_test*w_final;\n",
    "\n",
    "@show test_l1 = mean(abs(Y_test - yhat))\n",
    "\n",
    "test_l1s = Y_test - yhat;\n",
    "in_sample_l1s = Y_train - yhat_train;\n",
    "\n",
    "@show test_l1*std_Y\n",
    "\n",
    "@show std_Y\n",
    "\n",
    "CSV.write(\"Xcsv\",Xcsvdf)\n",
    "CSV.write(\"testl1scsv\",DataFrame(test_l1s))\n",
    "CSV.write(\"insample_l1s\",DataFrame(in_sample_l1s))\n",
    "CSV.write(\"YCSV\", DataFrame(Y))\n",
    "\n",
    "\n",
    "@show w_final\n",
    "median(Y*std_Y + mean_Y)\n"
   ]
  }
 ],
 "metadata": {
  "kernelspec": {
   "display_name": "Julia nodeps 0.6.0",
   "language": "julia",
   "name": "julia-nodeps-0.6"
  },
  "language_info": {
   "file_extension": ".jl",
   "mimetype": "application/julia",
   "name": "julia",
   "version": "0.6.0"
  }
 },
 "nbformat": 4,
 "nbformat_minor": 2
}
