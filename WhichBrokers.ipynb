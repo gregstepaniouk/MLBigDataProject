{
 "cells": [
  {
   "cell_type": "code",
   "execution_count": 20,
   "metadata": {},
   "outputs": [],
   "source": [
    "using DataFrames"
   ]
  },
  {
   "cell_type": "code",
   "execution_count": 21,
   "metadata": {},
   "outputs": [
    {
     "data": {
      "text/html": [
       "<table class=\"data-frame\"><thead><tr><th></th><th>AAPL</th><th>FB</th><th>MSFT</th><th>JPM</th><th>TSLA</th></tr></thead><tbody><tr><th>1</th><td>(GS) GOLDMAN SACHS &amp; CO.</td><td>(VIRT) VIRTU FINANCIAL</td><td>(UBS) UBS INVESTMENT BANK</td><td>(VIRT) VIRTU FINANCIAL</td><td>(VIRT) VIRTU FINANCIAL</td></tr><tr><th>2</th><td>(VIRT) VIRTU FINANCIAL</td><td>(UBS) UBS INVESTMENT BANK</td><td>(VIRT) VIRTU FINANCIAL</td><td>(MSCO) MORGAN STANLEY</td><td>(UBS) UBS INVESTMENT BANK</td></tr><tr><th>3</th><td>(UBS) UBS INVESTMENT BANK</td><td>(FCM) FIDELITY CAPITAL MARKETS</td><td>(CSFB) CREDIT SUISSE</td><td>(UBS) UBS INVESTMENT BANK</td><td>(CSFB) CREDIT SUISSE</td></tr><tr><th>4</th><td>(CSFB) CREDIT SUISSE</td><td>(MSCO) MORGAN STANLEY</td><td>(MLCO) MERRILL LYNCH</td><td>(CSFB) CREDIT SUISSE</td><td>(FCM) FIDELITY CAPITAL MARKETS</td></tr><tr><th>5</th><td>(MSCO) MORGAN STANLEY</td><td>(CSFB) CREDIT SUISSE</td><td>(JPM) JP MORGAN</td><td>(MLCO) MERRILL LYNCH</td><td>(HSBC) HSBC GROUP PLC</td></tr><tr><th>6</th><td>(FCM) FIDELITY CAPITAL MARKETS</td><td>(JPM) JP MORGAN</td><td>(BCAP) BARCLAYS CAPITAL</td><td>(JPM) JP MORGAN</td><td>(JPM) JP MORGAN</td></tr><tr><th>7</th><td>(MLCO) MERRILL LYNCH</td><td>(MLCO) MERRILL LYNCH</td><td>(MSCO) MORGAN STANLEY</td><td>(BCAP) BARCLAYS CAPITAL</td><td>(GS) GOLDMAN SACHS &amp; CO.</td></tr><tr><th>8</th><td>(JPM) JP MORGAN</td><td>(CITI) CITIGROUP GLOBAL MARKETS</td><td>(CITI) CITIGROUP GLOBAL MARKETS</td><td>(CITI) CITIGROUP GLOBAL MARKETS</td><td>(BCAP) BARCLAYS CAPITAL</td></tr><tr><th>9</th><td>(CITI) CITIGROUP GLOBAL MARKETS</td><td>(BCAP) BARCLAYS CAPITAL</td><td>(GS) GOLDMAN SACHS &amp; CO.</td><td>(DBAB) DEUTSCHE BANK SECURITIES INC</td><td>(MLCO) MERRILL LYNCH</td></tr><tr><th>10</th><td>(BCAP) BARCLAYS CAPITAL</td><td>(GS) GOLDMAN SACHS &amp; CO.</td><td>(DBAB) DEUTSCHE BANK SECURITIES INC</td><td>(GS) GOLDMAN SACHS &amp; CO.</td><td>(CITI) CITIGROUP GLOBAL MARKETS</td></tr><tr><th>11</th><td>(DBAB) DEUTSCHE BANK SECURITIES INC</td><td>(SUSQ) SUSQUEHANNA INTERNATIONAL GRP</td><td>(FCM) FIDELITY CAPITAL MARKETS</td><td>(FCM) FIDELITY CAPITAL MARKETS</td><td>(DBAB) DEUTSCHE BANK SECURITIES INC</td></tr><tr><th>12</th><td>(SUSQ) SUSQUEHANNA INTERNATIONAL GRP</td><td>(DBAB) DEUTSCHE BANK SECURITIES INC</td><td>(SUSQ) SUSQUEHANNA INTERNATIONAL GRP</td><td>(INCA) INSTINET</td><td>(SUSQ) SUSQUEHANNA INTERNATIONAL GRP</td></tr><tr><th>13</th><td>(CVGX) BNY CONVERGEX GROUP LLC</td><td>(CVGX) BNY CONVERGEX GROUP LLC</td><td>(SG) SG SECURITIES</td><td>(CVGX) BNY CONVERGEX GROUP LLC</td><td>(CVGX) BNY CONVERGEX GROUP LLC</td></tr><tr><th>14</th><td>(BNYM) BANK OF NEW YORK, THE</td><td>(JEFF) JEFFERIES &amp; CO., INC.</td><td>(RBC) ROYAL BANK OF CANADA</td><td>(SG) SG SECURITIES</td><td>(BNYM) BANK OF NEW YORK, THE</td></tr><tr><th>15</th><td>(SG) SG SECURITIES</td><td>(INCA) INSTINET</td><td>(INCA) INSTINET</td><td>(RBC) ROYAL BANK OF CANADA</td><td>(MSCO) MORGAN STANLEY</td></tr><tr><th>16</th><td>(RBC) ROYAL BANK OF CANADA</td><td>(RBC) ROYAL BANK OF CANADA</td><td>(JEFF) JEFFERIES &amp; CO., INC.</td><td>(BMOC) BMO CAPITAL MARKETS</td><td>(JEFF) JEFFERIES &amp; CO., INC.</td></tr><tr><th>17</th><td>(INCA) INSTINET</td><td>(BNYM) BANK OF NEW YORK, THE</td><td>(CVGX) BNY CONVERGEX GROUP LLC</td><td>(SUSQ) SUSQUEHANNA INTERNATIONAL GRP</td><td>(CANT) CANTOR FITZGERALD L.P.</td></tr><tr><th>18</th><td>(BMOC) BMO CAPITAL MARKETS</td><td>(CLSA) CLSA AMERICAS LLC</td><td>(WELS) WELLS FARGO SECURITIES</td><td>(JEFF) JEFFERIES &amp; CO., INC.</td><td>(RBC) ROYAL BANK OF CANADA</td></tr><tr><th>19</th><td>(KEYB) KEYBANC CAPITAL MARKETS</td><td>(BMOC) BMO CAPITAL MARKETS</td><td>(STFL) STIFEL NICOLAUS COMPANY, INC.</td><td>(ISI) EVERCORE GROUP L.L.C.</td><td>(INCA) INSTINET</td></tr><tr><th>20</th><td>(BTIG) BTIG LLC</td><td>(STFL) STIFEL NICOLAUS COMPANY, INC.</td><td>(BMOC) BMO CAPITAL MARKETS</td><td>(BIDS) BIDS HOLDINGS, L.P.</td><td>(UFP) UNITED FIRST PARTNERS</td></tr></tbody></table>"
      ],
      "text/plain": [
       "20×5 DataFrames.DataFrame\n",
       "│ Row │ AAPL                                   │\n",
       "├─────┼────────────────────────────────────────┤\n",
       "│ 1   │ \"(GS) GOLDMAN SACHS & CO.\"             │\n",
       "│ 2   │ \"(VIRT) VIRTU FINANCIAL\"               │\n",
       "│ 3   │ \"(UBS) UBS INVESTMENT BANK\"            │\n",
       "│ 4   │ \"(CSFB) CREDIT SUISSE\"                 │\n",
       "│ 5   │ \"(MSCO) MORGAN STANLEY\"                │\n",
       "│ 6   │ \"(FCM) FIDELITY CAPITAL MARKETS\"       │\n",
       "│ 7   │ \"(MLCO) MERRILL LYNCH\"                 │\n",
       "│ 8   │ \"(JPM) JP MORGAN\"                      │\n",
       "│ 9   │ \"(CITI) CITIGROUP GLOBAL MARKETS\"      │\n",
       "│ 10  │ \"(BCAP) BARCLAYS CAPITAL\"              │\n",
       "│ 11  │ \"(DBAB) DEUTSCHE BANK SECURITIES INC\"  │\n",
       "│ 12  │ \"(SUSQ) SUSQUEHANNA INTERNATIONAL GRP\" │\n",
       "│ 13  │ \"(CVGX) BNY CONVERGEX GROUP LLC\"       │\n",
       "│ 14  │ \"(BNYM) BANK OF NEW YORK, THE\"         │\n",
       "│ 15  │ \"(SG) SG SECURITIES\"                   │\n",
       "│ 16  │ \"(RBC) ROYAL BANK OF CANADA\"           │\n",
       "│ 17  │ \"(INCA) INSTINET\"                      │\n",
       "│ 18  │ \"(BMOC) BMO CAPITAL MARKETS\"           │\n",
       "│ 19  │ \"(KEYB) KEYBANC CAPITAL MARKETS\"       │\n",
       "│ 20  │ \"(BTIG) BTIG LLC\"                      │\n",
       "\n",
       "│ Row │ FB                                     │\n",
       "├─────┼────────────────────────────────────────┤\n",
       "│ 1   │ \"(VIRT) VIRTU FINANCIAL\"               │\n",
       "│ 2   │ \"(UBS) UBS INVESTMENT BANK\"            │\n",
       "│ 3   │ \"(FCM) FIDELITY CAPITAL MARKETS\"       │\n",
       "│ 4   │ \"(MSCO) MORGAN STANLEY\"                │\n",
       "│ 5   │ \"(CSFB) CREDIT SUISSE\"                 │\n",
       "│ 6   │ \"(JPM) JP MORGAN\"                      │\n",
       "│ 7   │ \"(MLCO) MERRILL LYNCH\"                 │\n",
       "│ 8   │ \"(CITI) CITIGROUP GLOBAL MARKETS\"      │\n",
       "│ 9   │ \"(BCAP) BARCLAYS CAPITAL\"              │\n",
       "│ 10  │ \"(GS) GOLDMAN SACHS & CO.\"             │\n",
       "│ 11  │ \"(SUSQ) SUSQUEHANNA INTERNATIONAL GRP\" │\n",
       "│ 12  │ \"(DBAB) DEUTSCHE BANK SECURITIES INC\"  │\n",
       "│ 13  │ \"(CVGX) BNY CONVERGEX GROUP LLC\"       │\n",
       "│ 14  │ \"(JEFF) JEFFERIES & CO., INC.\"         │\n",
       "│ 15  │ \"(INCA) INSTINET\"                      │\n",
       "│ 16  │ \"(RBC) ROYAL BANK OF CANADA\"           │\n",
       "│ 17  │ \"(BNYM) BANK OF NEW YORK, THE\"         │\n",
       "│ 18  │ \"(CLSA) CLSA AMERICAS LLC\"             │\n",
       "│ 19  │ \"(BMOC) BMO CAPITAL MARKETS\"           │\n",
       "│ 20  │ \"(STFL) STIFEL NICOLAUS COMPANY, INC.\" │\n",
       "\n",
       "│ Row │ MSFT                                   │\n",
       "├─────┼────────────────────────────────────────┤\n",
       "│ 1   │ \"(UBS) UBS INVESTMENT BANK\"            │\n",
       "│ 2   │ \"(VIRT) VIRTU FINANCIAL\"               │\n",
       "│ 3   │ \"(CSFB) CREDIT SUISSE\"                 │\n",
       "│ 4   │ \"(MLCO) MERRILL LYNCH\"                 │\n",
       "│ 5   │ \"(JPM) JP MORGAN\"                      │\n",
       "│ 6   │ \"(BCAP) BARCLAYS CAPITAL\"              │\n",
       "│ 7   │ \"(MSCO) MORGAN STANLEY\"                │\n",
       "│ 8   │ \"(CITI) CITIGROUP GLOBAL MARKETS\"      │\n",
       "│ 9   │ \"(GS) GOLDMAN SACHS & CO.\"             │\n",
       "│ 10  │ \"(DBAB) DEUTSCHE BANK SECURITIES INC\"  │\n",
       "│ 11  │ \"(FCM) FIDELITY CAPITAL MARKETS\"       │\n",
       "│ 12  │ \"(SUSQ) SUSQUEHANNA INTERNATIONAL GRP\" │\n",
       "│ 13  │ \"(SG) SG SECURITIES\"                   │\n",
       "│ 14  │ \"(RBC) ROYAL BANK OF CANADA\"           │\n",
       "│ 15  │ \"(INCA) INSTINET\"                      │\n",
       "│ 16  │ \"(JEFF) JEFFERIES & CO., INC.\"         │\n",
       "│ 17  │ \"(CVGX) BNY CONVERGEX GROUP LLC\"       │\n",
       "│ 18  │ \"(WELS) WELLS FARGO SECURITIES\"        │\n",
       "│ 19  │ \"(STFL) STIFEL NICOLAUS COMPANY, INC.\" │\n",
       "│ 20  │ \"(BMOC) BMO CAPITAL MARKETS\"           │\n",
       "\n",
       "│ Row │ JPM                                    │\n",
       "├─────┼────────────────────────────────────────┤\n",
       "│ 1   │ \"(VIRT) VIRTU FINANCIAL\"               │\n",
       "│ 2   │ \"(MSCO) MORGAN STANLEY\"                │\n",
       "│ 3   │ \"(UBS) UBS INVESTMENT BANK\"            │\n",
       "│ 4   │ \"(CSFB) CREDIT SUISSE\"                 │\n",
       "│ 5   │ \"(MLCO) MERRILL LYNCH\"                 │\n",
       "│ 6   │ \"(JPM) JP MORGAN\"                      │\n",
       "│ 7   │ \"(BCAP) BARCLAYS CAPITAL\"              │\n",
       "│ 8   │ \"(CITI) CITIGROUP GLOBAL MARKETS\"      │\n",
       "│ 9   │ \"(DBAB) DEUTSCHE BANK SECURITIES INC\"  │\n",
       "│ 10  │ \"(GS) GOLDMAN SACHS & CO.\"             │\n",
       "│ 11  │ \"(FCM) FIDELITY CAPITAL MARKETS\"       │\n",
       "│ 12  │ \"(INCA) INSTINET\"                      │\n",
       "│ 13  │ \"(CVGX) BNY CONVERGEX GROUP LLC\"       │\n",
       "│ 14  │ \"(SG) SG SECURITIES\"                   │\n",
       "│ 15  │ \"(RBC) ROYAL BANK OF CANADA\"           │\n",
       "│ 16  │ \"(BMOC) BMO CAPITAL MARKETS\"           │\n",
       "│ 17  │ \"(SUSQ) SUSQUEHANNA INTERNATIONAL GRP\" │\n",
       "│ 18  │ \"(JEFF) JEFFERIES & CO., INC.\"         │\n",
       "│ 19  │ \"(ISI) EVERCORE GROUP L.L.C.\"          │\n",
       "│ 20  │ \"(BIDS) BIDS HOLDINGS, L.P.\"           │\n",
       "\n",
       "│ Row │ TSLA                                   │\n",
       "├─────┼────────────────────────────────────────┤\n",
       "│ 1   │ \"(VIRT) VIRTU FINANCIAL\"               │\n",
       "│ 2   │ \"(UBS) UBS INVESTMENT BANK\"            │\n",
       "│ 3   │ \"(CSFB) CREDIT SUISSE\"                 │\n",
       "│ 4   │ \"(FCM) FIDELITY CAPITAL MARKETS\"       │\n",
       "│ 5   │ \"(HSBC) HSBC GROUP PLC\"                │\n",
       "│ 6   │ \"(JPM) JP MORGAN\"                      │\n",
       "│ 7   │ \"(GS) GOLDMAN SACHS & CO.\"             │\n",
       "│ 8   │ \"(BCAP) BARCLAYS CAPITAL\"              │\n",
       "│ 9   │ \"(MLCO) MERRILL LYNCH\"                 │\n",
       "│ 10  │ \"(CITI) CITIGROUP GLOBAL MARKETS\"      │\n",
       "│ 11  │ \"(DBAB) DEUTSCHE BANK SECURITIES INC\"  │\n",
       "│ 12  │ \"(SUSQ) SUSQUEHANNA INTERNATIONAL GRP\" │\n",
       "│ 13  │ \"(CVGX) BNY CONVERGEX GROUP LLC\"       │\n",
       "│ 14  │ \"(BNYM) BANK OF NEW YORK, THE\"         │\n",
       "│ 15  │ \"(MSCO) MORGAN STANLEY\"                │\n",
       "│ 16  │ \"(JEFF) JEFFERIES & CO., INC.\"         │\n",
       "│ 17  │ \"(CANT) CANTOR FITZGERALD L.P.\"        │\n",
       "│ 18  │ \"(RBC) ROYAL BANK OF CANADA\"           │\n",
       "│ 19  │ \"(INCA) INSTINET\"                      │\n",
       "│ 20  │ \"(UFP) UNITED FIRST PARTNERS\"          │"
      ]
     },
     "execution_count": 21,
     "metadata": {},
     "output_type": "execute_result"
    }
   ],
   "source": [
    "brank = readtable(\"DATA/BRank.csv\")"
   ]
  },
  {
   "cell_type": "code",
   "execution_count": 22,
   "metadata": {},
   "outputs": [
    {
     "data": {
      "text/plain": [
       "15-element Array{String,1}:\n",
       " \"(GS) GOLDMAN SACHS & CO.\"            \n",
       " \"(VIRT) VIRTU FINANCIAL\"              \n",
       " \"(UBS) UBS INVESTMENT BANK\"           \n",
       " \"(CSFB) CREDIT SUISSE\"                \n",
       " \"(MSCO) MORGAN STANLEY\"               \n",
       " \"(FCM) FIDELITY CAPITAL MARKETS\"      \n",
       " \"(MLCO) MERRILL LYNCH\"                \n",
       " \"(JPM) JP MORGAN\"                     \n",
       " \"(CITI) CITIGROUP GLOBAL MARKETS\"     \n",
       " \"(BCAP) BARCLAYS CAPITAL\"             \n",
       " \"(DBAB) DEUTSCHE BANK SECURITIES INC\" \n",
       " \"(SUSQ) SUSQUEHANNA INTERNATIONAL GRP\"\n",
       " \"(CVGX) BNY CONVERGEX GROUP LLC\"      \n",
       " \"(RBC) ROYAL BANK OF CANADA\"          \n",
       " \"(INCA) INSTINET\"                     "
      ]
     },
     "execution_count": 22,
     "metadata": {},
     "output_type": "execute_result"
    }
   ],
   "source": [
    "which = intersect(brank[:AAPL],brank[:FB],brank[:MSFT],brank[:JPM],brank[:TSLA])"
   ]
  }
 ],
 "metadata": {
  "kernelspec": {
   "display_name": "Julia 0.6.0",
   "language": "julia",
   "name": "julia-0.6"
  },
  "language_info": {
   "file_extension": ".jl",
   "mimetype": "application/julia",
   "name": "julia",
   "version": "0.6.0"
  }
 },
 "nbformat": 4,
 "nbformat_minor": 2
}
