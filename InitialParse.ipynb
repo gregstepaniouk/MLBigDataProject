{
 "cells": [
  {
   "cell_type": "code",
   "execution_count": 177,
   "metadata": {},
   "outputs": [
    {
     "ename": "LoadError",
     "evalue": "\u001b[91mArgumentError: Module Plotly not found in current path.\nRun `Pkg.add(\"Plotly\")` to install the Plotly package.\u001b[39m",
     "output_type": "error",
     "traceback": [
      "\u001b[91mArgumentError: Module Plotly not found in current path.\nRun `Pkg.add(\"Plotly\")` to install the Plotly package.\u001b[39m",
      "",
      "Stacktrace:",
      " [1] \u001b[1m_require\u001b[22m\u001b[22m\u001b[1m(\u001b[22m\u001b[22m::Symbol\u001b[1m)\u001b[22m\u001b[22m at \u001b[1m./loading.jl:428\u001b[22m\u001b[22m",
      " [2] \u001b[1mrequire\u001b[22m\u001b[22m\u001b[1m(\u001b[22m\u001b[22m::Symbol\u001b[1m)\u001b[22m\u001b[22m at \u001b[1m./loading.jl:398\u001b[22m\u001b[22m",
      " [3] \u001b[1minclude_string\u001b[22m\u001b[22m\u001b[1m(\u001b[22m\u001b[22m::String, ::String\u001b[1m)\u001b[22m\u001b[22m at \u001b[1m./loading.jl:515\u001b[22m\u001b[22m"
     ]
    }
   ],
   "source": [
    "using DataFrames\n",
    "using CSV\n",
    "using Plotly\n",
    "using Nulls"
   ]
  },
  {
   "cell_type": "code",
   "execution_count": 176,
   "metadata": {},
   "outputs": [
    {
     "data": {
      "text/plain": [
       "5607.419543281997"
      ]
     },
     "execution_count": 176,
     "metadata": {},
     "output_type": "execute_result"
    }
   ],
   "source": [
    "names = Symbol[]\n",
    "for i = 1:26\n",
    "    push!(names,string(\"F\",i))\n",
    "end\n",
    "\n",
    "virtu = readtable(\"DATA/VIRTU0817.txt\",header = false, separator = '|', names = names)\n",
    "\n",
    "virtu1 = virtu[completecases(virtu),:]\n",
    "\n"
   ]
  },
  {
   "cell_type": "raw",
   "metadata": {},
   "source": [
    "F1: Designated Participant Code (Amex - \"A\"; BSE - \"B\"; CHX - \"M\"; CSE - \"C\"; NASD - \"T\"; NYSE - \"N\"; PCX - \"P\"; Phlx - \"X\")\n",
    "F2: Market Center Code \n",
    "F3: Date\n",
    "F4: Security Ticker Symbol\n",
    "F5: Order Type Code (market orders - \"11\"; marketable limit orders - \"12\"; inside-the-quote limit orders - \"13\"; at-the-quote limit orders - \"14\"; near-the-quote limit orders - \"15\")\n",
    "F6: Order Size Code (100-499 shares - \"21\"; 500-1999 shares - \"22\"; 2000-4999 shares - \"23\"; 5000 or more shares - \"24\")\n",
    "F7: Total Covered Orders\n",
    "F8: Total Covered Shares\n",
    "F9: Cancelled Shares\n",
    "F10: Market Center Executed Shares\n",
    "F11: Away Executed Shares\n",
    "F12: Shares from 0 to 9 Seconds\n",
    "F13: Shares from 10 to 29 Seconds\n",
    "F14: Shares from 30 to 59 Seconds\n",
    "F15: Shares from 60 to 299 Seconds\n",
    "F16: Shares from 5 to 30 Minutes\n",
    "F17: Average Realized Spread ($)\n",
    "F18: Average Effective Spread ($)\n",
    "F19: Price-Improved Shares\n",
    "F20: Price Improved Average Amount ($)\n",
    "F21: Price Improved Average Time (seconds)\n",
    "F22: At-the Quote Shares\n",
    "F23: At-the-Quote Average Time (seconds)\n",
    "F24: Outside-the-Quote Shares\n",
    "F25: Outside-the-Quote Average Amount ($)\n",
    "F26: Outside-the-Quote Average Time (seconds)\n",
    "\n",
    "source: https://www.sec.gov/interps/legal/slbim12b.htm"
   ]
  },
  {
   "cell_type": "raw",
   "metadata": {},
   "source": [
    "(a) Order and Format of Fields\n",
    "\n",
    "(1) The first field in a file shall be the code identifying the Participant that is acting as Designated Participant for the market center under Section VIII of the Plan. The Participant identification codes are as follows: Amex - \"A\"; BSE - \"B\"; CHX - \"M\"; CSE - \"C\"; NASD - \"T\"; NYSE - \"N\"; PCX - \"P\"; Phlx - \"X\".\n",
    "\n",
    "(2) The next field in a file shall be the code identifying the market center, as assigned by a Designated Participant pursuant to Section VIII of the Plan.\n",
    "\n",
    "(3) The next field in a file shall be the six-digit code identifying the date of the calendar month of trading for the market center report contained in the file (\"yyyymm\").\n",
    "\n",
    "(4) The next field in a file shall be the symbol assigned to an individual security under the national market system plan pursuant to which the consolidated best bid and offer for such security are disseminated on a current and continuous basis.\n",
    "\n",
    "(5) The next field in a file shall be the code for the one of the five types of order by which the Rule requires a market center to categorize its report. The order type codes are as follows: market orders - \"11\"; marketable limit orders - \"12\"; inside-the-quote limit orders - \"13\"; at-the-quote limit orders - \"14\"; near-the-quote limit orders - \"15\".\n",
    "\n",
    "(6) The next field in a file shall be the code for one of the four order size buckets by which the Rule requires a market center to categorize its report. The order size codes are as follows: 100-499 shares - \"21\"; 500-1999 shares - \"22\"; 2000-4999 shares - \"23\"; 5000 or more shares - \"24\".\n",
    "\n",
    "(7) The next field in a file shall be the number of covered orders, as specified in paragraph (b)(1)(i)(A) of the Rule.\n",
    "\n",
    "(8) The next field in a file shall be the cumulative number of shares of covered orders, as specified in paragraph (b)(1)(i)(B) of the Rule.\n",
    "\n",
    "(9) The next field in a file shall be the cumulative number of shares of covered orders cancelled prior to execution, as specified in paragraph (b)(1)(i)(C) of the Rule.\n",
    "\n",
    "(10) The next field in a file shall be the cumulative number of shares of covered orders executed at the receiving market center, as specified in paragraph (b)(1)(i)(D) of the Rule.\n",
    "\n",
    "(11) The next field in a file shall be the cumulative number of shares of covered orders executed at any other venue, as specified in paragraph (b)(1)(i)(E) of the Rule.\n",
    "\n",
    "(12) The next field in a file shall be the cumulative number of shares of covered orders executed from 0 to 9 seconds after the time of order receipt, as specified in paragraph (b)(1)(i)(F) of the Rule.\n",
    "\n",
    "(13) The next field in a file shall be the cumulative number of shares of covered orders executed from 10 to 29 seconds after the time of order receipt, as specified in paragraph (b)(1)(i)(G) of the Rule.\n",
    "\n",
    "(14) The next field in a file shall be the cumulative number of shares of covered orders executed from 30 to 59 seconds after the time of order receipt, as specified in paragraph (b)(1)(i)(H) of the Rule.\n",
    "\n",
    "(15) The next field in a file shall be the cumulative number of shares of covered orders executed from 60 to 299 seconds after the time of order receipt, as specified in paragraph (b)(1)(i)(I) of the Rule.\n",
    "\n",
    "(16) The next field in a file shall be the cumulative number of shares of covered orders executed from 5 minutes to 30 minutes after the time of order receipt, as specified in paragraph (b)(1)(i)(J) of the Rule.\n",
    "\n",
    "(17) The next field in a file shall be the average realized spread for executions of covered orders, as specified in paragraph (b)(1)(i)(K) of the Rule. The amount shall be expressed in dollars and carried out to four decimal places.\n",
    "\n",
    "(18) The next field in a file shall be the average effective spread for executions of covered orders, as specified in paragraph (b)(1)(ii)(A) of the Rule. The amount shall be expressed in dollars and carried out to four decimal places.\n",
    "\n",
    "(19) The next field in a file shall be the cumulative number of shares of covered orders executed with price improvement, as specified in paragraph (b)(1)(ii)(B) of the Rule.\n",
    "\n",
    "(20) The next field in a file shall be, for shares executed with price improvement, the share-weighted average amount per share that prices were improved, as specified in paragraph (b)(1)(ii)(C) of the Rule. The amount shall be expressed in dollars and carried out to four decimal places.\n",
    "\n",
    "(21) The next field in a file shall be, for shares executed with price improvement, the share-weighted average period from the time of order receipt to the time of order execution, as specified in paragraph (b)(1)(ii)(D) of the Rule. The period shall be expressed in number of seconds and carried out to one decimal place.\n",
    "\n",
    "(22) The next field in a file shall be the cumulative number of shares of covered orders executed at the quote, as specified in paragraph (b)(1)(ii)(E) of the Rule.\n",
    "\n",
    "(23) The next field in a file shall be, for shares executed at the quote, the share-weighted average period of time from the time of order receipt to the time of order execution, as specified in paragraph (b)(1)(ii)(F) of the Rule. The period shall be expressed in number of seconds and carried out to one decimal place.\n",
    "\n",
    "(24) The next field in a file shall be the cumulative number of shares of covered orders executed outside the quote, as specified in paragraph (b)(1)(ii)(G) of the Rule.\n",
    "\n",
    "(25) The next field in a file shall be, for shares executed outside the quote, the share-weighted average amount per share that prices were outside the quote, as specified in paragraph (b)(1)(ii)(H) of the Rule. The amount shall be expressed in dollars and carried out to four decimal places.\n",
    "\n",
    "(26) The next field in a file shall be, for shares executed outside the quote, the share-weighted average period of time from the time of order receipt to the time of order execution, as specified in paragraph (b)(1)(ii)(I) of the Rule. The period shall be expressed in number of seconds and carried out to one decimal place.\n",
    "\n",
    "source: https://www.sec.gov/interps/legal/slbim12rappxa.htm\n"
   ]
  },
  {
   "cell_type": "code",
   "execution_count": 151,
   "metadata": {},
   "outputs": [
    {
     "data": {
      "text/plain": [
       "26-element Array{Any,1}:\n",
       " \"F1\" \n",
       " \"F2\" \n",
       " \"F3\" \n",
       " \"F4\" \n",
       " \"F5\" \n",
       " \"F6\" \n",
       " \"F7\" \n",
       " \"F8\" \n",
       " \"F9\" \n",
       " \"F10\"\n",
       " \"F11\"\n",
       " \"F12\"\n",
       " \"F13\"\n",
       " \"F14\"\n",
       " \"F15\"\n",
       " \"F16\"\n",
       " \"F17\"\n",
       " \"F18\"\n",
       " \"F19\"\n",
       " \"F20\"\n",
       " \"F21\"\n",
       " \"F22\"\n",
       " \"F23\"\n",
       " \"F24\"\n",
       " \"F25\"\n",
       " \"F26\""
      ]
     },
     "execution_count": 151,
     "metadata": {},
     "output_type": "execute_result"
    }
   ],
   "source": []
  },
  {
   "cell_type": "code",
   "execution_count": 138,
   "metadata": {},
   "outputs": [
    {
     "ename": "LoadError",
     "evalue": "\u001b[91mMethodError: no method matching getindex(::DataFrames.DataFrame, ::NullableArrays.NullableArray{Bool,1}, ::Colon)\u001b[39m",
     "output_type": "error",
     "traceback": [
      "\u001b[91mMethodError: no method matching getindex(::DataFrames.DataFrame, ::NullableArrays.NullableArray{Bool,1}, ::Colon)\u001b[39m",
      "",
      "Stacktrace:",
      " [1] \u001b[1mna_omit\u001b[22m\u001b[22m\u001b[1m(\u001b[22m\u001b[22m::DataFrames.DataFrame\u001b[1m)\u001b[22m\u001b[22m at \u001b[1m/Users/greg/.julia/v0.6/DataFrames/src/statsmodels/formula.jl:236\u001b[22m\u001b[22m",
      " [2] \u001b[1minclude_string\u001b[22m\u001b[22m\u001b[1m(\u001b[22m\u001b[22m::String, ::String\u001b[1m)\u001b[22m\u001b[22m at \u001b[1m./loading.jl:515\u001b[22m\u001b[22m"
     ]
    }
   ],
   "source": []
  }
 ],
 "metadata": {
  "kernelspec": {
   "display_name": "Julia 0.6.0",
   "language": "julia",
   "name": "julia-0.6"
  },
  "language_info": {
   "file_extension": ".jl",
   "mimetype": "application/julia",
   "name": "julia",
   "version": "0.6.0"
  }
 },
 "nbformat": 4,
 "nbformat_minor": 2
}
